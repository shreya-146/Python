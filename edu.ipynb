{
 "cells": [
  {
   "cell_type": "code",
   "execution_count": 1,
   "id": "0e8dbbe5-d847-4ab2-a948-25612446fea1",
   "metadata": {},
   "outputs": [
    {
     "name": "stdout",
     "output_type": "stream",
     "text": [
      "Hello\n"
     ]
    }
   ],
   "source": [
    "print(\"Hello\")"
   ]
  },
  {
   "cell_type": "code",
   "execution_count": 3,
   "id": "9d8077d0-2ac3-41fc-ac4f-06fec4b8105b",
   "metadata": {},
   "outputs": [
    {
     "name": "stdout",
     "output_type": "stream",
     "text": [
      "apple\n"
     ]
    }
   ],
   "source": [
    "x=(\"apple\")\n",
    "print(x)"
   ]
  },
  {
   "cell_type": "code",
   "execution_count": 5,
   "id": "765300f5-6de8-4257-8dbd-f16ac55dacd0",
   "metadata": {},
   "outputs": [
    {
     "name": "stdout",
     "output_type": "stream",
     "text": [
      "1 2.8\n"
     ]
    }
   ],
   "source": [
    "x=1 \n",
    "y=2.8\n",
    "print(x,y)"
   ]
  },
  {
   "cell_type": "code",
   "execution_count": 9,
   "id": "9f320a4f-131b-4767-bb3e-3b529b89291c",
   "metadata": {},
   "outputs": [
    {
     "name": "stdout",
     "output_type": "stream",
     "text": [
      "Hello\n"
     ]
    }
   ],
   "source": [
    "# Python \n",
    "''' iweof8hep\n",
    "fvpspfehfe89\n",
    "pe9fhwpg'''\n",
    "print(\"Hello\")"
   ]
  },
  {
   "cell_type": "code",
   "execution_count": 50,
   "id": "2ebbba48-86a0-4c66-bfe1-42886f3154f3",
   "metadata": {},
   "outputs": [
    {
     "name": "stdout",
     "output_type": "stream",
     "text": [
      "42 3.14 Hi [1, 2, 3] {'key': 'value'} True hi\n"
     ]
    }
   ],
   "source": [
    "n=42 ;m=2\n",
    "f=3.14\n",
    "s=\"Hi\"\n",
    "list=[1,2,3]\n",
    "d={'key':'value'}\n",
    "bool=True\n",
    "nobool=False\n",
    "print(n,f,s,list,d,bool,\"hi\")"
   ]
  },
  {
   "cell_type": "code",
   "execution_count": 48,
   "id": "c459607b-59e3-4dc0-96d7-0cb03c4501c9",
   "metadata": {},
   "outputs": [
    {
     "name": "stdout",
     "output_type": "stream",
     "text": [
      "1.3312345678876544e+42 qerfwwfo hello \n",
      "My\n"
     ]
    }
   ],
   "source": [
    "d=1331234567887654323212234555667786532445678.8\n",
    "print(   d,f,\n",
    "     \"hello \\nMy\")\n",
    "f=\"qerfwwfo\""
   ]
  },
  {
   "cell_type": "code",
   "execution_count": 56,
   "id": "e38cccf4-b028-4793-822c-70d0885349f4",
   "metadata": {},
   "outputs": [
    {
     "name": "stdout",
     "output_type": "stream",
     "text": [
      "(5+5j)\n",
      "38\n"
     ]
    }
   ],
   "source": [
    "a=5\n",
    "a=a+5j\n",
    "print(a)\n",
    "b=4+34\n",
    "print(b)"
   ]
  },
  {
   "cell_type": "code",
   "execution_count": 62,
   "id": "a37c6d95-dae1-4098-892a-a07a095494d2",
   "metadata": {},
   "outputs": [
    {
     "name": "stdout",
     "output_type": "stream",
     "text": [
      "['a', 'b', '1234', 12, 15.6, 12]\n"
     ]
    }
   ],
   "source": [
    "List=['a','b','1234',12,15.6,12]\n",
    "print(List)"
   ]
  },
  {
   "cell_type": "code",
   "execution_count": 68,
   "id": "5e5d89a2-ecba-413b-8a73-5f8651763f33",
   "metadata": {},
   "outputs": [
    {
     "name": "stdout",
     "output_type": "stream",
     "text": [
      "1\n"
     ]
    }
   ],
   "source": [
    "tuple=(\"1\",\"2\",\"3\")\n",
    "tuple=(\"1\")\n",
    "print(tuple)"
   ]
  },
  {
   "cell_type": "code",
   "execution_count": 72,
   "id": "73eb7a46-2855-4c8f-bd0d-fb27d985ce4a",
   "metadata": {},
   "outputs": [
    {
     "name": "stdout",
     "output_type": "stream",
     "text": [
      "{1, 2, 3, 4, 5, 6, 'hi', 5.79}\n"
     ]
    }
   ],
   "source": [
    "set={1,2,3,4,4,5,6,6,\"hi\",5.79}\n",
    "print(set)"
   ]
  },
  {
   "cell_type": "code",
   "execution_count": 84,
   "id": "8d17f5f4-a679-4e0f-ad8a-d090c72b9d52",
   "metadata": {},
   "outputs": [
    {
     "name": "stdout",
     "output_type": "stream",
     "text": [
      "{'name': 'Shre', 'age': '23', 'gender': 'F'}\n"
     ]
    }
   ],
   "source": [
    "de={\"name\":\"Shre\",\"age\":\"23\",\"gender\":\"F\"}\n",
    "print(de)\n"
   ]
  },
  {
   "cell_type": "code",
   "execution_count": 88,
   "id": "19ee5044-d31d-46a3-b921-268e1e59255a",
   "metadata": {},
   "outputs": [
    {
     "name": "stdout",
     "output_type": "stream",
     "text": [
      "hi\n"
     ]
    }
   ],
   "source": [
    "'''tuple and list'''\n",
    "''' list and set'''\n",
    "print(\"hi\")"
   ]
  },
  {
   "cell_type": "code",
   "execution_count": 104,
   "id": "f9421cc2-a2af-4279-a7f5-6fd5d27ed488",
   "metadata": {},
   "outputs": [
    {
     "name": "stdout",
     "output_type": "stream",
     "text": [
      "0\n",
      "1\n",
      "2\n",
      "3\n",
      "4\n",
      "5\n",
      "6\n",
      "7\n",
      "8\n",
      "9\n",
      "10\n",
      "4\n",
      "3\n",
      "2\n",
      "1\n",
      "0\n",
      "1\n",
      "3\n",
      "5\n",
      "7\n",
      "9\n"
     ]
    }
   ],
   "source": [
    "for i in range(0, 11):\n",
    "    print(i) \n",
    "    \n",
    "for i in reversed(range(5)):\n",
    "    print(i) # Output: 4 3 2 1 0\n",
    "\n",
    "for i in range(1, 10, 2):\n",
    "    print(i) \n"
   ]
  },
  {
   "cell_type": "code",
   "execution_count": 136,
   "id": "303c719c-ff84-471d-9a4a-bccd634d23ce",
   "metadata": {},
   "outputs": [
    {
     "name": "stdout",
     "output_type": "stream",
     "text": [
      "30\n",
      "20\n",
      "20\n",
      "0\n",
      "400\n",
      "20\n",
      "1.0\n",
      "1\n",
      "0\n",
      "104857600000000000000000000\n"
     ]
    }
   ],
   "source": [
    "#Add\n",
    "a=10; b=20\n",
    "print(a+b)\n",
    "\n",
    "\n",
    "a=+b;b=+a\n",
    "print(a)\n",
    "print(b)\n",
    "#Sub\n",
    "print(a-b)\n",
    "#Multiply\n",
    "print(a*b)\n",
    "print(a)\n",
    "#Div\n",
    "print(a/b)\n",
    "#floor div no point value\n",
    "print(a//b)\n",
    "#mod\n",
    "print(a%b)\n",
    "#exponent\n",
    "print(a**b)\n",
    "#"
   ]
  },
  {
   "cell_type": "code",
   "execution_count": 154,
   "id": "276df623-99f2-4cf1-a1f6-98064b06c015",
   "metadata": {},
   "outputs": [
    {
     "name": "stdout",
     "output_type": "stream",
     "text": [
      "False\n",
      "True\n",
      "False\n",
      "True\n",
      "True\n",
      "False\n"
     ]
    }
   ],
   "source": [
    "a=2;b=3\n",
    "print(a==b)\n",
    "print(a!=b)\n",
    "print(a>b)\n",
    "print(a<b)\n",
    "print(a<=b)\n",
    "print(a>=b)\n"
   ]
  },
  {
   "cell_type": "markdown",
   "id": "71cfbd57-f383-4d53-af14-dc5afddb5f56",
   "metadata": {},
   "source": [
    "#[1]print name\n",
    "#[2]print hello and name\n",
    "#[3]list of fruits add 6 fruits\n",
    "#[4]creat a set for the 2 mul till 10 \n",
    "#[5]creat dic for name edu city hobbie\n",
    "# [6]take 4 value and perform arethamatic oparation on them\n",
    "# [7]compare 3 values ans find max min\n",
    "\n",
    "\n",
    "\n",
    "\n"
   ]
  },
  {
   "cell_type": "code",
   "execution_count": 17,
   "id": "9a822ce4-b5bf-4898-9516-8b35842a5d9f",
   "metadata": {},
   "outputs": [
    {
     "name": "stdout",
     "output_type": "stream",
     "text": [
      "Hello Shreya\n",
      "['apple', 'banana', 'orange', 'mango', 'grape', 'pineapple', 'watermelon', 'strawberry']\n",
      "{0, 2, 4, 6, 8, 10}\n",
      "{'name': 'Shre', 'edu': 'Instru Eng', 'liking': 'dance'}\n",
      "False\n",
      "True\n",
      "True\n",
      "False\n",
      "False\n",
      "True\n",
      "B is max\n"
     ]
    }
   ],
   "source": [
    "#[1]\n",
    "a=\"Shreya\"\n",
    "print(\"Hello\",a)\n",
    "\n",
    "[2]\n",
    "a=[\"apple\", \"banana\", \"orange\", \"mango\", \"grape\", \"pineapple\", \"watermelon\", \"strawberry\"]\n",
    "print(a)\n",
    "\n",
    "#[3]\n",
    "s={0,2,4,6,8,10}\n",
    "print(s)\n",
    "\n",
    "#[4]\n",
    "de={\"name\":\"Shre\",\"edu\":\"Instru Eng\",\"liking\":\"dance\"}\n",
    "print(de)\n",
    "\n",
    "#[5]\n",
    "a=10;b=20;c=30;d=40\n",
    "print(a==b)\n",
    "print(a!=b)\n",
    "print(a<=b)\n",
    "print(a>=b)\n",
    "print(a>b)\n",
    "print(a<b)\n",
    "\n",
    "#[6]\n",
    "a=13\n",
    "b=14\n",
    "if a > b:\n",
    "    print(\"a is Max\")\n",
    "\n",
    "elif a < b:\n",
    "    print(\"B is max\")\n",
    "\n",
    "else:\n",
    "    print(\"is equal to b\")\n",
    "\n",
    "\n"
   ]
  },
  {
   "cell_type": "code",
   "execution_count": 190,
   "id": "61ad5d0c-a359-4c8d-b970-0f5dd67e8fa4",
   "metadata": {},
   "outputs": [
    {
     "name": "stdout",
     "output_type": "stream",
     "text": [
      "['apple', 'banana', 'orange', 'mango', 'grape', 'pineapple', 'watermelon', 'strawberry']\n"
     ]
    }
   ],
   "source": [
    "[2]\n",
    "a=[\"apple\", \"banana\", \"orange\", \"mango\", \"grape\", \"pineapple\", \"watermelon\", \"strawberry\"]\n",
    "print(a)"
   ]
  },
  {
   "cell_type": "code",
   "execution_count": 21,
   "id": "2da52dc3-c4c6-4d3b-9539-103b2a8296af",
   "metadata": {},
   "outputs": [
    {
     "name": "stdout",
     "output_type": "stream",
     "text": [
      "True\n",
      "False\n",
      "False\n",
      "9\n",
      "3\n",
      "6\n",
      "3\n"
     ]
    }
   ],
   "source": [
    "a=2; b=4\n",
    "print(a<b and b>a)\n",
    "\n",
    "a=4; b=5\n",
    "print(a<b and b==a)\n",
    "\n",
    "a=4; b=5\n",
    "print(not(a<b))\n",
    "\n",
    "a+=5\n",
    "print(a)\n",
    "a-=6\n",
    "print(a)\n",
    "a*=2\n",
    "print(a)\n",
    "a//=2\n",
    "print(a)"
   ]
  },
  {
   "cell_type": "code",
   "execution_count": 29,
   "id": "107575a2-133b-48e8-ba14-a69b7e04583f",
   "metadata": {},
   "outputs": [
    {
     "name": "stdout",
     "output_type": "stream",
     "text": [
      "True\n"
     ]
    }
   ],
   "source": [
    "# Membership operators\n",
    "flowers=[\"rose\",\"lily\"]\n",
    "print(\"rose\" in flowers)\n"
   ]
  },
  {
   "cell_type": "code",
   "execution_count": 47,
   "id": "88b8cf25-65e6-42d3-afab-96f32d9ab26b",
   "metadata": {},
   "outputs": [
    {
     "name": "stdout",
     "output_type": "stream",
     "text": [
      "False\n",
      "True\n",
      "True\n"
     ]
    },
    {
     "name": "stderr",
     "output_type": "stream",
     "text": [
      "<>:4: SyntaxWarning: \"is\" with 'str' literal. Did you mean \"==\"?\n",
      "<>:5: SyntaxWarning: \"is not\" with 'str' literal. Did you mean \"!=\"?\n",
      "<>:6: SyntaxWarning: \"is not\" with 'str' literal. Did you mean \"!=\"?\n",
      "<>:4: SyntaxWarning: \"is\" with 'str' literal. Did you mean \"==\"?\n",
      "<>:5: SyntaxWarning: \"is not\" with 'str' literal. Did you mean \"!=\"?\n",
      "<>:6: SyntaxWarning: \"is not\" with 'str' literal. Did you mean \"!=\"?\n",
      "C:\\Users\\Admin\\AppData\\Local\\Temp\\ipykernel_16412\\3092475581.py:4: SyntaxWarning: \"is\" with 'str' literal. Did you mean \"==\"?\n",
      "  print('rose' is fruit)\n",
      "C:\\Users\\Admin\\AppData\\Local\\Temp\\ipykernel_16412\\3092475581.py:5: SyntaxWarning: \"is not\" with 'str' literal. Did you mean \"!=\"?\n",
      "  print('rose' is not fruit)\n",
      "C:\\Users\\Admin\\AppData\\Local\\Temp\\ipykernel_16412\\3092475581.py:6: SyntaxWarning: \"is not\" with 'str' literal. Did you mean \"!=\"?\n",
      "  print('banana' is not fruit)\n"
     ]
    }
   ],
   "source": [
    "#identity operators\n",
    "fruit=['apple', 'banana', 'orange', 'mango']\n",
    "flowers=[\"rose\",\"lily\"]\n",
    "print('rose' is fruit)\n",
    "print('rose' is not fruit)\n",
    "print('banana' is not fruit)"
   ]
  },
  {
   "cell_type": "code",
   "execution_count": 63,
   "id": "7405cc44-2845-4248-96d3-6251cca45067",
   "metadata": {},
   "outputs": [
    {
     "name": "stdout",
     "output_type": "stream",
     "text": [
      "<class 'float'>\n",
      "hi\n"
     ]
    }
   ],
   "source": [
    "# Type converstion \n",
    "''' implicit converstion and Explicit converstion'''\n",
    "a=6; b=7; c=34.1\n",
    "add= a+b+c\n",
    "print(type(add))\n",
    "\n",
    "'''Type converstion\n",
    "\n",
    "Python supports type converstion to avoid any data lose or to explectly change the data type. \n",
    "There are 2 types of type converstion support by python\n",
    "1> implicit converstion \n",
    "python automaticaly changes the value  datatype during run time to avoid data loss\n",
    "\n",
    "2> Explicit converstion\n",
    "this type of converstion is done manully,to change the datatpye using buildin datatype function\n",
    "eg:-int();float();List();etc{except string,dic}\n",
    "\n",
    "[to check any dataype we use type() function.]\n",
    "'''\n",
    "print(\"hi\")\n"
   ]
  },
  {
   "cell_type": "code",
   "execution_count": 81,
   "id": "136622bc-f1dc-4198-80b7-57f7be5c8513",
   "metadata": {},
   "outputs": [
    {
     "name": "stdout",
     "output_type": "stream",
     "text": [
      "12\n",
      "<class 'float'>\n",
      "22\n",
      "24.2\n",
      "<class 'float'>\n"
     ]
    }
   ],
   "source": [
    "s=12.2\n",
    "print(int(s))\n",
    "print(type(s))\n",
    "print(int(s)+10)\n",
    "print(int(s)+float(s))\n",
    "x=int(s)+float(s)\n",
    "print(type(x))"
   ]
  },
  {
   "cell_type": "code",
   "execution_count": 89,
   "id": "070a49bc-5059-4268-83ae-eaed855ac821",
   "metadata": {},
   "outputs": [
    {
     "name": "stdout",
     "output_type": "stream",
     "text": [
      "<class 'list'>\n",
      "('apple', 'banana', 'orange', 'mango')\n",
      "{'banana', 'apple', 'orange', 'mango'}\n",
      "('apple', 'banana', 'orange', 'mango')\n"
     ]
    }
   ],
   "source": [
    "fruit=['apple', 'banana', 'orange', 'mango']\n",
    "print(type(fruit))\n",
    "print(tuple(fruit))\n",
    "print(set(fruit))\n",
    "fru=(tuple(fruit))\n",
    "print(fru)"
   ]
  },
  {
   "cell_type": "code",
   "execution_count": 91,
   "id": "15257580-b137-4d3b-b0b3-54a04f987d01",
   "metadata": {},
   "outputs": [
    {
     "name": "stdout",
     "output_type": "stream",
     "text": [
      "1232.0\n",
      "12.235\n",
      "233\n",
      "('asd', 'ssd', 'sds')\n",
      "{'34f', '234', '243sdd', 'xxdd'}\n",
      "['sdsd', 'ffgs', 'dfytf', 'tygy']\n"
     ]
    }
   ],
   "source": [
    "#[1]\n",
    "ab=1232\n",
    "print(float(ab))\n",
    "\n",
    "#[2]\n",
    "ba=12.235\n",
    "print(float(ba))\n",
    "\n",
    "#[3]\n",
    "ca=\"233\"\n",
    "a=(int(ca))\n",
    "print(a)\n",
    "\n",
    "#[4]\n",
    "xy=[\"asd\",\"ssd\",\"sds\"]\n",
    "a=(tuple(xy))\n",
    "print(a)\n",
    "\n",
    "#[5]\n",
    "df=(\"xxdd\",\"234\",\"34f\",\"243sdd\")\n",
    "a=(set(df))\n",
    "print(a)\n",
    "\n",
    "#[6]\n",
    "gh={\"sdsd\",\"ffgs\",\"dfytf\",\"tygy\"}\n",
    "a=(list(gh))\n",
    "print(a)\n"
   ]
  },
  {
   "cell_type": "code",
   "execution_count": 97,
   "id": "05323b90-7c58-4e28-9808-206d6364fc1a",
   "metadata": {},
   "outputs": [
    {
     "name": "stdout",
     "output_type": "stream",
     "text": [
      "1.0\n",
      "12\n",
      "{'Hello', 'hi'}\n",
      "['yes', 'no']\n",
      "('hi', 'Hello')\n",
      "13.0\n"
     ]
    }
   ],
   "source": [
    "a=1\n",
    "b=12.4\n",
    "c=[\"hi\",\"Hello\"]\n",
    "d=(\"yes\",\"no\")\n",
    "\n",
    "print(float(a))\n",
    "print(int(b))\n",
    "print(set(c))\n",
    "print(list(d))\n",
    "print(tuple(c))\n",
    "s=(int(b))+(float(a))\n",
    "print(s)"
   ]
  },
  {
   "cell_type": "code",
   "execution_count": 105,
   "id": "74f77d0c-823d-46d8-9aa7-75b9b4a41d74",
   "metadata": {},
   "outputs": [
    {
     "name": "stdout",
     "output_type": "stream",
     "text": [
      "10\n"
     ]
    }
   ],
   "source": [
    "#control Structure\n",
    "# 1> Conditon statements\n",
    "# 2>loops\n",
    "# 1 conditon is If conditon {If the block is right then the code of block will excicute}\n",
    "# syntex if -----:\n",
    "#     space [block of code]\n",
    "x=10\n",
    "if x==10 and x<=10:\n",
    " print(x)\n"
   ]
  },
  {
   "cell_type": "code",
   "execution_count": 109,
   "id": "4f796af8-1e9d-43d3-931c-6fc965a84ed1",
   "metadata": {},
   "outputs": [
    {
     "name": "stdout",
     "output_type": "stream",
     "text": [
      "10\n",
      "thanks\n"
     ]
    }
   ],
   "source": [
    "x=10\n",
    "if x==10 and x<=10:\n",
    " print(x)\n",
    "print(\"thanks\")"
   ]
  },
  {
   "cell_type": "code",
   "execution_count": 117,
   "id": "c0b088b7-a46b-44ee-9aba-77f2f9b596e2",
   "metadata": {},
   "outputs": [
    {
     "name": "stdout",
     "output_type": "stream",
     "text": [
      "No\n"
     ]
    }
   ],
   "source": [
    "#control Structure\n",
    "# 1> Conditon statements\n",
    "# 2>loops\n",
    "# 1 conditon is else if conditon {If the block is right then the code of block will excicute or else block will excicute}\n",
    "# syntex \n",
    "       # else.......:\n",
    "       # space [block of code]\n",
    "x=20;\n",
    "if x==10 and x<=10:\n",
    " print(x)\n",
    "else:\n",
    " print(\"No\")"
   ]
  },
  {
   "cell_type": "code",
   "execution_count": 125,
   "id": "40328ecf-8860-47dc-89ff-803ba3499cbc",
   "metadata": {},
   "outputs": [
    {
     "name": "stdout",
     "output_type": "stream",
     "text": [
      "yes\n"
     ]
    }
   ],
   "source": [
    "#control Structure\n",
    "# 1> Conditon statements\n",
    "# 2>loops\n",
    "# 1 conditon is if-elif-else conditon {If the block is right then the code of block will excicute or elif block will excicute or else block}\n",
    "# syntex \n",
    "        # if.......:\n",
    "       # space [block of code]\n",
    "       # elif.......:\n",
    "       # space [block of code]\n",
    "       # else.......:\n",
    "       # space [block of code]\n",
    "x=20\n",
    "\n",
    "if x==10 and x<=10:\n",
    " print(x)\n",
    "elif x==20:\n",
    " print(\"yes\")\n",
    "else:\n",
    " print(\"No\")"
   ]
  },
  {
   "cell_type": "code",
   "execution_count": 137,
   "id": "b5f04aea-ff1c-432a-96e0-347eb084518c",
   "metadata": {},
   "outputs": [
    {
     "name": "stdin",
     "output_type": "stream",
     "text": [
      "enter a number:  123\n"
     ]
    },
    {
     "name": "stdout",
     "output_type": "stream",
     "text": [
      "123\n",
      "<class 'int'>\n"
     ]
    }
   ],
   "source": [
    "x= int(input(\"enter a number: \"))\n",
    "print(x)\n",
    "print(type(x))"
   ]
  },
  {
   "cell_type": "code",
   "execution_count": 143,
   "id": "3fa760f7-ea85-43f3-9390-6e0b04f799d5",
   "metadata": {},
   "outputs": [
    {
     "name": "stdin",
     "output_type": "stream",
     "text": [
      "enter a number:  234\n"
     ]
    },
    {
     "name": "stdout",
     "output_type": "stream",
     "text": [
      "234\n"
     ]
    }
   ],
   "source": [
    "x= int(input(\"enter a number: \"))\n",
    "if x%2==0:\n",
    " print(x)"
   ]
  },
  {
   "cell_type": "code",
   "execution_count": 147,
   "id": "5492d507-32d0-4df4-88de-ba621e84fda1",
   "metadata": {},
   "outputs": [
    {
     "name": "stdin",
     "output_type": "stream",
     "text": [
      "Enter your marks:  67\n"
     ]
    },
    {
     "name": "stdout",
     "output_type": "stream",
     "text": [
      "you got B Good\n"
     ]
    }
   ],
   "source": [
    "# take persentage from user and give grade \n",
    "# condition A+--90\n",
    "# A ---80\n",
    "# B+--70\n",
    "# B --60\n",
    "# C --50 \n",
    "# F --50\n",
    "\n",
    "x= int(input(\"Enter your marks: \"))\n",
    "if x==90 or x>=90:\n",
    " print(\"you got A+ congragulation\")\n",
    "elif x==80 or x>=80:\n",
    " print(\"You got A congratulation\") \n",
    "elif x==70 or x>=70:\n",
    " print(\"you got B+ well done\")   \n",
    "elif x==60 or x>=60:\n",
    " print(\"you got B Good\")   \n",
    "elif x==50 or x>=50:\n",
    " print(\"you got C+ try hard\") \n",
    "elif x==40 or x>=40:\n",
    " print(\"F you ned to retest\") \n",
    "else:\n",
    " print(\"error\")    \n",
    "\n",
    " "
   ]
  },
  {
   "cell_type": "code",
   "execution_count": 172,
   "id": "b5d692e9-8011-4338-90ea-008720c8ecb9",
   "metadata": {},
   "outputs": [
    {
     "name": "stdin",
     "output_type": "stream",
     "text": [
      "Enter your number:  12\n"
     ]
    },
    {
     "name": "stdout",
     "output_type": "stream",
     "text": [
      "is Prime\n"
     ]
    }
   ],
   "source": [
    "# prime or not \n",
    "a= int(input(\"Enter your number: \"))\n",
    "if a<=1:\n",
    " print(\"prime\")\n",
    "elif a==2 or a==3 or a==5 or a==7:\n",
    " print(\"Prime\")   \n",
    "elif a%2==0 and a%3==0 and a%5==0 and a%7==0 :\n",
    " print(\"not Prime\") \n",
    "else:\n",
    " print(\"is Prime\") "
   ]
  },
  {
   "cell_type": "code",
   "execution_count": null,
   "id": "2c8f5553-ae32-4ba1-97b7-82344896032a",
   "metadata": {},
   "outputs": [],
   "source": [
    "# condition statements are used in python for decition making based on special condition \n",
    "# if block \n",
    "# If the block is right then the code of block will excicute or else block will excicute}\n",
    "# syntex \n",
    "       # else.......:\n",
    "       # space [block of code]\n",
    "\n",
    "# else-if condition works on has alternative block to excicute if the condition is exciuted then if block run or default else block run\n",
    "# Indentation is imp in python\n",
    "# Decimal\tBinary\n",
    "# 1\t0001\n",
    "# 2\t0010\n",
    "# 3\t0011\n",
    "# 4\t0100\n",
    "# 5\t0101\n",
    "# 6\t0110\n",
    "# 7\t0111\n",
    "# 8\t1000\n",
    "# 9\t1001\n",
    "# 10\t1010\n",
    "# Division\tQuotient\tRemainder\n",
    "# 13 ÷ 2\t6\t1\n",
    "# 6 ÷ 2\t3\t0\n",
    "# 3 ÷ 2\t1\t1\n",
    "# 1 ÷ 2\t0\t1\n",
    "\n",
    "# Now, write the remainders from bottom to top:\n",
    "\n",
    "# 13 in binary = 1101\n",
    "#pip install library_name\n"
   ]
  },
  {
   "cell_type": "code",
   "execution_count": 55,
   "id": "9c6933f1-8b06-402b-a76d-a21d8ac1ddb4",
   "metadata": {},
   "outputs": [
    {
     "name": "stdin",
     "output_type": "stream",
     "text": [
      "Enter your name fweg\n"
     ]
    },
    {
     "name": "stdout",
     "output_type": "stream",
     "text": [
      "Hello\n",
      "fweg\n"
     ]
    }
   ],
   "source": [
    "name = input(\"Enter your name\")\n",
    "print(\"Hello\\n\" + name)\n"
   ]
  },
  {
   "cell_type": "code",
   "execution_count": 43,
   "id": "25fa8a37-3f02-44b5-afda-00225e2bc526",
   "metadata": {},
   "outputs": [
    {
     "name": "stdout",
     "output_type": "stream",
     "text": [
      "1234\n",
      "<class 'str'>\n",
      "<class 'int'>\n"
     ]
    }
   ],
   "source": [
    "g=\"1234\"\n",
    "print(int(g))\n",
    "print(type(g))\n",
    "h=int(g)\n",
    "print(type(h))"
   ]
  },
  {
   "cell_type": "code",
   "execution_count": 103,
   "id": "36aa4d97-5347-47a9-b20b-7cac6e7e90b8",
   "metadata": {},
   "outputs": [
    {
     "name": "stdin",
     "output_type": "stream",
     "text": [
      "Enter temp 13\n"
     ]
    },
    {
     "name": "stdout",
     "output_type": "stream",
     "text": [
      "55.400000000000006\n"
     ]
    },
    {
     "name": "stdin",
     "output_type": "stream",
     "text": [
      "Enter age 15\n"
     ]
    },
    {
     "name": "stdout",
     "output_type": "stream",
     "text": [
      "Enjoy your Teenager\n"
     ]
    },
    {
     "name": "stdin",
     "output_type": "stream",
     "text": [
      "Enter num -12\n"
     ]
    },
    {
     "name": "stdout",
     "output_type": "stream",
     "text": [
      "its -ve\n"
     ]
    },
    {
     "name": "stdin",
     "output_type": "stream",
     "text": [
      "Enter name Shre\n",
      "Enter age 16\n"
     ]
    },
    {
     "name": "stdout",
     "output_type": "stream",
     "text": [
      "Hi\n",
      "Shre\n",
      "21\n"
     ]
    },
    {
     "name": "stdin",
     "output_type": "stream",
     "text": [
      "Enter num 1234\n"
     ]
    },
    {
     "name": "stdout",
     "output_type": "stream",
     "text": [
      "Fizz\n",
      "Welcome\n",
      " login Page\n",
      "Enter your mail id\n"
     ]
    },
    {
     "name": "stdin",
     "output_type": "stream",
     "text": [
      "Enter email shreya.xyz2002@gmail.com\n"
     ]
    },
    {
     "name": "stdout",
     "output_type": "stream",
     "text": [
      "Enter password\n"
     ]
    },
    {
     "name": "stdin",
     "output_type": "stream",
     "text": [
      "Enter password{only number} 12\n"
     ]
    },
    {
     "name": "stdout",
     "output_type": "stream",
     "text": [
      "Login successfully\n"
     ]
    }
   ],
   "source": [
    "# Section D: Coding Tasks\n",
    "# 11. . Take a user input of temperature in Celsius and print the equivalent Fahrenheit.\n",
    "#  (Formula: F = C × 9/5 + 32)\n",
    "In=float(input(\"Enter temp\"))\n",
    "A=In*(9/5)+32\n",
    "print(A)\n",
    "# 12. . Ask the user to enter their age.\n",
    "#  - If age < 13: print 'Child'\n",
    "#  - If age between 13 and 19: print 'Teenager'\n",
    "#  - Else: print 'Adult'\n",
    "age=int(input(\"Enter age\"))\n",
    "if age<=13:\n",
    " print(\"Cute Child\")\n",
    "elif range(13, 19):\n",
    " print(\"Enjoy your Teenager\") \n",
    "else:\n",
    " print(\"Pay your bills Audlt\")     \n",
    "\n",
    "# 13. . Write a program to check if a number is positive, negative, or zero.\n",
    "# num=int(input(\"Enter number\"))\n",
    "num=int(input(\"Enter num\"))\n",
    "if num>0:\n",
    " print(\"its +ve\")\n",
    "elif num<0:\n",
    " print(\"its -ve\") \n",
    "else:\n",
    " print(\"its 0\")  \n",
    "\n",
    "# 14. . Create a program that takes a user’s name and age, and prints:\n",
    "#  'Hi <name>, you will be <age+5> years old in 5 years.'\n",
    "name=str(input(\"Enter name\"))\n",
    "age=int(input(\"Enter age\"))\n",
    "print(\"Hi\\n\"+name)\n",
    "age+=5\n",
    "print(age)\n",
    "\n",
    "# 15. . Ask the user to enter a number:\n",
    "#  - If divisible by 3, print 'Fizz'\n",
    "#  - If divisible by 5, print 'Buzz'\n",
    "#  - If divisible by both 3 and 5, print 'FizzBuzz'\n",
    "#  - Else, print the number itself.\n",
    "num=int(input(\"Enter num\"))\n",
    "if num//3:\n",
    " print(\"Fizz\")\n",
    "elif num//5:\n",
    " print(\"Buzz\") \n",
    "elif num//3 and num//5:\n",
    " print(\"FizzBuzz\")    \n",
    "else:\n",
    " print(num) \n",
    "\n",
    "# 16. . Create a simple login program that asks the user to enter a username and password.\n",
    "#  If both match predefined values (e.g., admin and 1234), print 'Login successful', else\n",
    "# print 'Invalid credentials'.\n",
    "x=12\n",
    "print(\"Welcome\\n login Page\")\n",
    "print(\"Enter your mail id\")\n",
    "email=str(input(\"Enter email\"))\n",
    "print(\"Enter password\")\n",
    "password=int(input(\"Enter password{only number}\"))\n",
    "if password==12:\n",
    " print(\"Login successfully\")\n",
    "else:\n",
    " print(\"Try again by refresh page\") "
   ]
  },
  {
   "cell_type": "code",
   "execution_count": null,
   "id": "d3b9fd25-1ddd-4cdc-8d8c-89ff6f07352a",
   "metadata": {},
   "outputs": [],
   "source": []
  }
 ],
 "metadata": {
  "kernelspec": {
   "display_name": "Python [conda env:base] *",
   "language": "python",
   "name": "conda-base-py"
  },
  "language_info": {
   "codemirror_mode": {
    "name": "ipython",
    "version": 3
   },
   "file_extension": ".py",
   "mimetype": "text/x-python",
   "name": "python",
   "nbconvert_exporter": "python",
   "pygments_lexer": "ipython3",
   "version": "3.12.7"
  }
 },
 "nbformat": 4,
 "nbformat_minor": 5
}
