{
 "cells": [
  {
   "cell_type": "markdown",
   "id": "f2708d5c-84f2-4905-a75a-c369e7e92e00",
   "metadata": {},
   "source": [
    "# 1. Take a user input of temperature in Celsius and print the equivalent Fahrenheit.\n",
    " (Formula: F = C × 9/5 + 32)"
   ]
  },
  {
   "cell_type": "code",
   "execution_count": null,
   "id": "caed0d4e-62fe-4f9a-9eef-02e0b4ee4f35",
   "metadata": {},
   "outputs": [],
   "source": [
    "In=float(input(\"Enter temp\"))\n",
    "A=In*(9/5)+32\n",
    "print(A)"
   ]
  },
  {
   "cell_type": "markdown",
   "id": "107c584d-0dfa-430e-bc0e-d691398d47b1",
   "metadata": {},
   "source": [
    "# 2 Ask the user to enter their age.\n",
    " - If age < 13: print 'Child'\n",
    " - If age between 13 and 19: print 'Teenager'\n",
    " - Else: print 'Adult'"
   ]
  },
  {
   "cell_type": "code",
   "execution_count": null,
   "id": "853fee6c-58ec-45ef-a3f6-8e065ca0caed",
   "metadata": {},
   "outputs": [],
   "source": [
    "age=int(input(\"Enter age\"))\n",
    "if age<=13:\n",
    " print(\"Cute Child\")\n",
    "elif range(13, 19):\n",
    " print(\"Enjoy your Teenager\") \n",
    "else:\n",
    " print(\"Pay your bills Audlt\") "
   ]
  },
  {
   "cell_type": "markdown",
   "id": "9b15d482-d5a3-4b9d-9c11-a64fb2d566f6",
   "metadata": {},
   "source": [
    "# 3 Write a program to check if a number is positive, negative, or zero.\n"
   ]
  },
  {
   "cell_type": "code",
   "execution_count": null,
   "id": "dad78b9c-4c40-4c11-a7a8-292a7e506077",
   "metadata": {},
   "outputs": [],
   "source": [
    "num=int(input(\"Enter num\"))\n",
    "if num>0:\n",
    " print(\"its +ve\")\n",
    "elif num<0:\n",
    " print(\"its -ve\") \n",
    "else:\n",
    " print(\"its 0\")  "
   ]
  },
  {
   "cell_type": "markdown",
   "id": "82ec97d7-962d-4a24-a10c-093dedb7a8aa",
   "metadata": {},
   "source": [
    "# 4 Create a program that takes a user’s name and age, and prints:\n",
    "# 'Hi <name>, you will be <age+5> years old in 5 years.'"
   ]
  },
  {
   "cell_type": "code",
   "execution_count": null,
   "id": "d3165b6c-221a-4e11-a4ba-505f3eee33d2",
   "metadata": {},
   "outputs": [],
   "source": [
    "name=str(input(\"Enter name\"))\n",
    "age=int(input(\"Enter age\"))\n",
    "print(\"Hi\\n\"+name)\n",
    "age+=5\n",
    "print(age)"
   ]
  },
  {
   "cell_type": "markdown",
   "id": "e7457803-57d5-49fe-b9f3-6351a49b0ef8",
   "metadata": {},
   "source": [
    "# 5. . Ask the user to enter a number:\n",
    " - If divisible by 3, print 'Fizz'\n",
    " - If divisible by 5, print 'Buzz'\n",
    " - If divisible by both 3 and 5, print 'FizzBuzz'\n",
    " - Else, print the number itself."
   ]
  },
  {
   "cell_type": "code",
   "execution_count": null,
   "id": "ce74fa5d-e62e-447b-be08-97e5045859a1",
   "metadata": {},
   "outputs": [],
   "source": [
    "num=int(input(\"Enter num\"))\n",
    "if num//3:\n",
    " print(\"Fizz\")\n",
    "elif num//5:\n",
    " print(\"Buzz\") \n",
    "elif num//3 and num//5:\n",
    " print(\"FizzBuzz\")    \n",
    "else:\n",
    " print(num) "
   ]
  },
  {
   "cell_type": "markdown",
   "id": "99e879fb-b6ce-443b-895a-5fccb0826a01",
   "metadata": {},
   "source": [
    "# 6. . Create a simple login program that asks the user to enter a username and password.\n",
    " If both match predefined values (e.g., admin and 1234), print 'Login successful', else\n",
    "print 'Invalid credentials'."
   ]
  },
  {
   "cell_type": "code",
   "execution_count": null,
   "id": "54e9a026-14f6-4a88-b468-3e2dba39beee",
   "metadata": {},
   "outputs": [],
   "source": [
    "x=12\n",
    "print(\"Welcome\\n login Page\")\n",
    "print(\"Enter your mail id\")\n",
    "email=str(input(\"Enter email\"))\n",
    "print(\"Enter password\")\n",
    "password=int(input(\"Enter password{only number}\"))\n",
    "if password==12:\n",
    " print(\"Login successfully\")\n",
    "else:\n",
    " print(\"Try again by refresh page\") "
   ]
  },
  {
   "cell_type": "markdown",
   "id": "d466e4be-15b5-4cd1-afe8-c34f278cbe2b",
   "metadata": {},
   "source": [
    "# Write a program to convert the Kilometers into Miles. 1 kilometer = 0.621371 miles"
   ]
  },
  {
   "cell_type": "code",
   "execution_count": null,
   "id": "15bbd02f-7d8b-46e5-bb37-9b0070c84798",
   "metadata": {},
   "outputs": [],
   "source": [
    "print(\"Enter Kilometers\")\n",
    "km=int(input(\"Enter num\"))\n",
    "a=km*0.621371\n",
    "print(a)"
   ]
  },
  {
   "cell_type": "markdown",
   "id": "31b3f024-c81e-4f85-9e55-29fbcbbc4f21",
   "metadata": {},
   "source": [
    " # Find the Minimum of Three Numbers- Take 3 numbers as input from user and check which is the smallest number."
   ]
  },
  {
   "cell_type": "code",
   "execution_count": null,
   "id": "96599884-cf76-4542-8dda-18b357617df1",
   "metadata": {},
   "outputs": [],
   "source": [
    "num1=int(input(\"Enter num1\"))\n",
    "num2=int(input(\"Enter num2\"))\n",
    "num3=int(input(\"Enter num3\"))\n",
    "if num1<num3 and num1<num2:\n",
    " print(\"num1 is smallest\")\n",
    "elif num2<num3 and num2<num1:\n",
    " print(\"num2 is smaller\")   \n",
    "elif num3<num2 and num3<num1:\n",
    " print(\"num3 is smaller\")     \n",
    "else:\n",
    " print(\"error\")"
   ]
  },
  {
   "cell_type": "markdown",
   "id": "a7e68614-fde9-48a1-a7f7-0614531fea19",
   "metadata": {},
   "source": [
    "# # Impelement a program where user enters their current savings and monthly deposit.\n",
    "# Use assignment operators to update their savings account after adding their monthly deposit, including monthly interest of 0.5%."
   ]
  },
  {
   "cell_type": "code",
   "execution_count": null,
   "id": "d1ea8697-ad95-4d58-8d95-997551b42064",
   "metadata": {},
   "outputs": [],
   "source": [
    "print(\"Enter current savings \")\n",
    "num1=float(input(\"Enter current savings \"))\n",
    "print(\"Enter monthly deposit \")\n",
    "num2=float(input(\"Enter monthly deposit \"))\n",
    "if num2!=0:\n",
    " a=num1+num2\n",
    "print(\"amount after adding deposit\")\n",
    "print(a)\n",
    "b=(a * 0.005 * 1) / 100\n",
    "print(\"Total amount after adding is\")\n",
    "print(b) \n",
    "#(Interest=Principal\\times Rate\\times Time\\).\n",
    "# Detailed Calculation:\n",
    "# Principal (P): ₹10,000\n",
    "# Rate (R): 0.5% (or 0.005 as a decimal)\n",
    "# Time (T): 1 month (or 1/12 of a year) \n",
    "# Simple Interest Formula:\n",
    "# Interest = (P * R * T) / 100\n",
    "# Interest = (10000 * 0.005 * 1) / 100\n",
    "# Interest = ₹50 \n"
   ]
  }
 ],
 "metadata": {
  "kernelspec": {
   "display_name": "Python [conda env:base] *",
   "language": "python",
   "name": "conda-base-py"
  },
  "language_info": {
   "codemirror_mode": {
    "name": "ipython",
    "version": 3
   },
   "file_extension": ".py",
   "mimetype": "text/x-python",
   "name": "python",
   "nbconvert_exporter": "python",
   "pygments_lexer": "ipython3",
   "version": "3.12.7"
  }
 },
 "nbformat": 4,
 "nbformat_minor": 5
}
